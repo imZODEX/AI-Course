{
  "cells": [
    {
      "cell_type": "code",
      "execution_count": 1,
      "metadata": {
        "id": "QDqPlAjfXlk8"
      },
      "outputs": [],
      "source": [
        "import pandas as pd\n",
        "import numpy as np"
      ]
    },
    {
      "cell_type": "code",
      "execution_count": 2,
      "metadata": {
        "colab": {
          "base_uri": "https://localhost:8080/"
        },
        "id": "3mQp-OPsbiwS",
        "outputId": "9908fcb2-96ec-43f3-9d80-3aa47ce40951"
      },
      "outputs": [
        {
          "data": {
            "text/plain": [
              "array([ 4,  8, 12, 16])"
            ]
          },
          "execution_count": 2,
          "metadata": {},
          "output_type": "execute_result"
        }
      ],
      "source": [
        "# What are vectorized operations\n",
        "a = np.array([1,2,3,4])\n",
        "a * 4"
      ]
    },
    {
      "cell_type": "code",
      "execution_count": 3,
      "metadata": {
        "colab": {
          "base_uri": "https://localhost:8080/",
          "height": 288
        },
        "id": "GQ1pnK4VYFff",
        "outputId": "6f48ea2e-c080-47c2-f6ed-bd3303d8324e"
      },
      "outputs": [
        {
          "ename": "AttributeError",
          "evalue": "'NoneType' object has no attribute 'startswith'",
          "output_type": "error",
          "traceback": [
            "\u001b[1;31m---------------------------------------------------------------------------\u001b[0m",
            "\u001b[1;31mAttributeError\u001b[0m                            Traceback (most recent call last)",
            "Cell \u001b[1;32mIn[3], line 4\u001b[0m\n\u001b[0;32m      1\u001b[0m \u001b[38;5;66;03m# problem in vectorized opertions in vanilla python\u001b[39;00m\n\u001b[0;32m      2\u001b[0m s \u001b[38;5;241m=\u001b[39m [\u001b[38;5;124m'\u001b[39m\u001b[38;5;124mcat\u001b[39m\u001b[38;5;124m'\u001b[39m,\u001b[38;5;124m'\u001b[39m\u001b[38;5;124mmat\u001b[39m\u001b[38;5;124m'\u001b[39m,\u001b[38;5;28;01mNone\u001b[39;00m,\u001b[38;5;124m'\u001b[39m\u001b[38;5;124mrat\u001b[39m\u001b[38;5;124m'\u001b[39m]\n\u001b[1;32m----> 4\u001b[0m [\u001b[43mi\u001b[49m\u001b[38;5;241;43m.\u001b[39;49m\u001b[43mstartswith\u001b[49m(\u001b[38;5;124m'\u001b[39m\u001b[38;5;124mc\u001b[39m\u001b[38;5;124m'\u001b[39m) \u001b[38;5;28;01mfor\u001b[39;00m i \u001b[38;5;129;01min\u001b[39;00m s]\n",
            "\u001b[1;31mAttributeError\u001b[0m: 'NoneType' object has no attribute 'startswith'"
          ]
        }
      ],
      "source": [
        "# problem in vectorized opertions in vanilla python\n",
        "s = ['cat','mat',None,'rat']\n",
        "\n",
        "[i.startswith('c') for i in s]"
      ]
    },
    {
      "cell_type": "code",
      "execution_count": 4,
      "metadata": {
        "colab": {
          "base_uri": "https://localhost:8080/"
        },
        "id": "RQftULmHYL0j",
        "outputId": "fce67eb9-ad20-4f22-9a79-2de669716eb0"
      },
      "outputs": [
        {
          "data": {
            "text/plain": [
              "0     True\n",
              "1    False\n",
              "2     None\n",
              "3    False\n",
              "dtype: object"
            ]
          },
          "execution_count": 4,
          "metadata": {},
          "output_type": "execute_result"
        }
      ],
      "source": [
        "# How pandas solves this issue?\n",
        "\n",
        "s = pd.Series(['cat','mat',None,'rat'])\n",
        "# string accessor\n",
        "s.str.startswith('c')\n",
        "\n",
        "# fast and optimized"
      ]
    },
    {
      "cell_type": "code",
      "execution_count": 6,
      "metadata": {
        "colab": {
          "base_uri": "https://localhost:8080/"
        },
        "id": "qEKjNlikgBXh",
        "outputId": "272f723e-4a5c-4bc4-ff19-fe919c461634"
      },
      "outputs": [
        {
          "data": {
            "text/plain": [
              "0                                Braund, Mr. Owen Harris\n",
              "1      Cumings, Mrs. John Bradley (Florence Briggs Th...\n",
              "2                                 Heikkinen, Miss. Laina\n",
              "3           Futrelle, Mrs. Jacques Heath (Lily May Peel)\n",
              "4                               Allen, Mr. William Henry\n",
              "                             ...                        \n",
              "886                                Montvila, Rev. Juozas\n",
              "887                         Graham, Miss. Margaret Edith\n",
              "888             Johnston, Miss. Catherine Helen \"Carrie\"\n",
              "889                                Behr, Mr. Karl Howell\n",
              "890                                  Dooley, Mr. Patrick\n",
              "Name: Name, Length: 891, dtype: object"
            ]
          },
          "execution_count": 6,
          "metadata": {},
          "output_type": "execute_result"
        }
      ],
      "source": [
        "# import titanic\n",
        "df = pd.read_csv('datasets/titanic.csv')\n",
        "df['Name']"
      ]
    },
    {
      "cell_type": "code",
      "execution_count": 8,
      "metadata": {
        "colab": {
          "base_uri": "https://localhost:8080/"
        },
        "id": "iJfR6a4cZCYz",
        "outputId": "c1d84c5b-c240-4a05-c88d-4d02525d12fe"
      },
      "outputs": [
        {
          "data": {
            "text/plain": [
              "0                                Braund, Mr. Owen Harris\n",
              "1      Cumings, Mrs. John Bradley (Florence Briggs Th...\n",
              "2                                 Heikkinen, Miss. Laina\n",
              "3           Futrelle, Mrs. Jacques Heath (Lily May Peel)\n",
              "4                               Allen, Mr. William Henry\n",
              "                             ...                        \n",
              "886                                Montvila, Rev. Juozas\n",
              "887                         Graham, Miss. Margaret Edith\n",
              "888             Johnston, Miss. Catherine Helen \"Carrie\"\n",
              "889                                Behr, Mr. Karl Howell\n",
              "890                                  Dooley, Mr. Patrick\n",
              "Name: Name, Length: 891, dtype: object"
            ]
          },
          "execution_count": 8,
          "metadata": {},
          "output_type": "execute_result"
        }
      ],
      "source": [
        "# Common Functions\n",
        "# lower/upper/capitalize/title\n",
        "df['Name'].str.upper()\n",
        "df['Name'].str.capitalize()\n",
        "df['Name'].str.title()\n",
        "# len\n",
        "df['Name'][df['Name'].str.len() == 82].values[0]\n",
        "# strip\n",
        "\"                   nitish                              \".strip()\n",
        "df['Name'].str.strip()"
      ]
    },
    {
      "cell_type": "code",
      "execution_count": 9,
      "metadata": {
        "colab": {
          "base_uri": "https://localhost:8080/",
          "height": 302
        },
        "id": "YVjsoN71mtEe",
        "outputId": "ea033545-5e41-4358-a8af-3cb75834d754"
      },
      "outputs": [
        {
          "data": {
            "text/html": [
              "<div>\n",
              "<style scoped>\n",
              "    .dataframe tbody tr th:only-of-type {\n",
              "        vertical-align: middle;\n",
              "    }\n",
              "\n",
              "    .dataframe tbody tr th {\n",
              "        vertical-align: top;\n",
              "    }\n",
              "\n",
              "    .dataframe thead th {\n",
              "        text-align: right;\n",
              "    }\n",
              "</style>\n",
              "<table border=\"1\" class=\"dataframe\">\n",
              "  <thead>\n",
              "    <tr style=\"text-align: right;\">\n",
              "      <th></th>\n",
              "      <th>PassengerId</th>\n",
              "      <th>Survived</th>\n",
              "      <th>Pclass</th>\n",
              "      <th>Name</th>\n",
              "      <th>Sex</th>\n",
              "      <th>Age</th>\n",
              "      <th>SibSp</th>\n",
              "      <th>Parch</th>\n",
              "      <th>Ticket</th>\n",
              "      <th>Fare</th>\n",
              "      <th>Cabin</th>\n",
              "      <th>Embarked</th>\n",
              "      <th>lastname</th>\n",
              "    </tr>\n",
              "  </thead>\n",
              "  <tbody>\n",
              "    <tr>\n",
              "      <th>0</th>\n",
              "      <td>1</td>\n",
              "      <td>0</td>\n",
              "      <td>3</td>\n",
              "      <td>Braund, Mr. Owen Harris</td>\n",
              "      <td>male</td>\n",
              "      <td>22.0</td>\n",
              "      <td>1</td>\n",
              "      <td>0</td>\n",
              "      <td>A/5 21171</td>\n",
              "      <td>7.2500</td>\n",
              "      <td>NaN</td>\n",
              "      <td>S</td>\n",
              "      <td>Braund</td>\n",
              "    </tr>\n",
              "    <tr>\n",
              "      <th>1</th>\n",
              "      <td>2</td>\n",
              "      <td>1</td>\n",
              "      <td>1</td>\n",
              "      <td>Cumings, Mrs. John Bradley (Florence Briggs Th...</td>\n",
              "      <td>female</td>\n",
              "      <td>38.0</td>\n",
              "      <td>1</td>\n",
              "      <td>0</td>\n",
              "      <td>PC 17599</td>\n",
              "      <td>71.2833</td>\n",
              "      <td>C85</td>\n",
              "      <td>C</td>\n",
              "      <td>Cumings</td>\n",
              "    </tr>\n",
              "    <tr>\n",
              "      <th>2</th>\n",
              "      <td>3</td>\n",
              "      <td>1</td>\n",
              "      <td>3</td>\n",
              "      <td>Heikkinen, Miss. Laina</td>\n",
              "      <td>female</td>\n",
              "      <td>26.0</td>\n",
              "      <td>0</td>\n",
              "      <td>0</td>\n",
              "      <td>STON/O2. 3101282</td>\n",
              "      <td>7.9250</td>\n",
              "      <td>NaN</td>\n",
              "      <td>S</td>\n",
              "      <td>Heikkinen</td>\n",
              "    </tr>\n",
              "    <tr>\n",
              "      <th>3</th>\n",
              "      <td>4</td>\n",
              "      <td>1</td>\n",
              "      <td>1</td>\n",
              "      <td>Futrelle, Mrs. Jacques Heath (Lily May Peel)</td>\n",
              "      <td>female</td>\n",
              "      <td>35.0</td>\n",
              "      <td>1</td>\n",
              "      <td>0</td>\n",
              "      <td>113803</td>\n",
              "      <td>53.1000</td>\n",
              "      <td>C123</td>\n",
              "      <td>S</td>\n",
              "      <td>Futrelle</td>\n",
              "    </tr>\n",
              "    <tr>\n",
              "      <th>4</th>\n",
              "      <td>5</td>\n",
              "      <td>0</td>\n",
              "      <td>3</td>\n",
              "      <td>Allen, Mr. William Henry</td>\n",
              "      <td>male</td>\n",
              "      <td>35.0</td>\n",
              "      <td>0</td>\n",
              "      <td>0</td>\n",
              "      <td>373450</td>\n",
              "      <td>8.0500</td>\n",
              "      <td>NaN</td>\n",
              "      <td>S</td>\n",
              "      <td>Allen</td>\n",
              "    </tr>\n",
              "  </tbody>\n",
              "</table>\n",
              "</div>"
            ],
            "text/plain": [
              "   PassengerId  Survived  Pclass  \\\n",
              "0            1         0       3   \n",
              "1            2         1       1   \n",
              "2            3         1       3   \n",
              "3            4         1       1   \n",
              "4            5         0       3   \n",
              "\n",
              "                                                Name     Sex   Age  SibSp  \\\n",
              "0                            Braund, Mr. Owen Harris    male  22.0      1   \n",
              "1  Cumings, Mrs. John Bradley (Florence Briggs Th...  female  38.0      1   \n",
              "2                             Heikkinen, Miss. Laina  female  26.0      0   \n",
              "3       Futrelle, Mrs. Jacques Heath (Lily May Peel)  female  35.0      1   \n",
              "4                           Allen, Mr. William Henry    male  35.0      0   \n",
              "\n",
              "   Parch            Ticket     Fare Cabin Embarked   lastname  \n",
              "0      0         A/5 21171   7.2500   NaN        S     Braund  \n",
              "1      0          PC 17599  71.2833   C85        C    Cumings  \n",
              "2      0  STON/O2. 3101282   7.9250   NaN        S  Heikkinen  \n",
              "3      0            113803  53.1000  C123        S   Futrelle  \n",
              "4      0            373450   8.0500   NaN        S      Allen  "
            ]
          },
          "execution_count": 9,
          "metadata": {},
          "output_type": "execute_result"
        }
      ],
      "source": [
        "# split -> get\n",
        "df['lastname'] = df['Name'].str.split(',').str.get(0)\n",
        "df.head()"
      ]
    },
    {
      "cell_type": "code",
      "execution_count": 10,
      "metadata": {
        "colab": {
          "base_uri": "https://localhost:8080/"
        },
        "id": "nvegel9Mhlcw",
        "outputId": "b22006f8-dbb2-4262-9abb-3d9d9e7eabe8"
      },
      "outputs": [
        {
          "data": {
            "text/plain": [
              "title\n",
              "Mr.          517\n",
              "Miss.        182\n",
              "Mrs.         125\n",
              "Master.       40\n",
              "Dr.            7\n",
              "Rev.           6\n",
              "Col.           2\n",
              "Mlle.          2\n",
              "Major.         2\n",
              "Ms.            1\n",
              "Mme.           1\n",
              "Don.           1\n",
              "Lady.          1\n",
              "Sir.           1\n",
              "Capt.          1\n",
              "the            1\n",
              "Jonkheer.      1\n",
              "Name: count, dtype: int64"
            ]
          },
          "execution_count": 10,
          "metadata": {},
          "output_type": "execute_result"
        }
      ],
      "source": [
        "df[['title','firstname']] = df['Name'].str.split(',').str.get(1).str.strip().str.split(' ', n=1, expand=True)\n",
        "df.head()\n",
        "\n",
        "df['title'].value_counts()"
      ]
    },
    {
      "cell_type": "code",
      "execution_count": 11,
      "metadata": {
        "colab": {
          "base_uri": "https://localhost:8080/"
        },
        "id": "2Vm-s-fwp2s3",
        "outputId": "83436fda-449a-469a-a035-c9ced72d84ba"
      },
      "outputs": [],
      "source": [
        "# replace\n",
        "df['title'] = df['title'].str.replace('Ms.','Miss.')\n",
        "df['title'] = df['title'].str.replace('Mlle.','Miss.')"
      ]
    },
    {
      "cell_type": "code",
      "execution_count": 12,
      "metadata": {
        "colab": {
          "base_uri": "https://localhost:8080/"
        },
        "id": "QiIKXpipjaMf",
        "outputId": "1f863a9b-86d8-419f-9e6d-e7854d8a3bc3"
      },
      "outputs": [
        {
          "data": {
            "text/plain": [
              "title\n",
              "Mr.          517\n",
              "Miss.        185\n",
              "Mrs.         125\n",
              "Master.       40\n",
              "Dr.            7\n",
              "Rev.           6\n",
              "Major.         2\n",
              "Col.           2\n",
              "Don.           1\n",
              "Lady.          1\n",
              "Mme.           1\n",
              "Sir.           1\n",
              "Capt.          1\n",
              "the            1\n",
              "Jonkheer.      1\n",
              "Name: count, dtype: int64"
            ]
          },
          "execution_count": 12,
          "metadata": {},
          "output_type": "execute_result"
        }
      ],
      "source": [
        "df['title'].value_counts()"
      ]
    },
    {
      "cell_type": "code",
      "execution_count": 13,
      "metadata": {
        "colab": {
          "base_uri": "https://localhost:8080/",
          "height": 49
        },
        "id": "6zCRD0H-ZEfA",
        "outputId": "fa6bfcd0-896a-48cd-f85d-8d24ba363ff6"
      },
      "outputs": [
        {
          "data": {
            "text/html": [
              "<div>\n",
              "<style scoped>\n",
              "    .dataframe tbody tr th:only-of-type {\n",
              "        vertical-align: middle;\n",
              "    }\n",
              "\n",
              "    .dataframe tbody tr th {\n",
              "        vertical-align: top;\n",
              "    }\n",
              "\n",
              "    .dataframe thead th {\n",
              "        text-align: right;\n",
              "    }\n",
              "</style>\n",
              "<table border=\"1\" class=\"dataframe\">\n",
              "  <thead>\n",
              "    <tr style=\"text-align: right;\">\n",
              "      <th></th>\n",
              "      <th>PassengerId</th>\n",
              "      <th>Survived</th>\n",
              "      <th>Pclass</th>\n",
              "      <th>Name</th>\n",
              "      <th>Sex</th>\n",
              "      <th>Age</th>\n",
              "      <th>SibSp</th>\n",
              "      <th>Parch</th>\n",
              "      <th>Ticket</th>\n",
              "      <th>Fare</th>\n",
              "      <th>Cabin</th>\n",
              "      <th>Embarked</th>\n",
              "      <th>lastname</th>\n",
              "      <th>title</th>\n",
              "      <th>firstname</th>\n",
              "    </tr>\n",
              "  </thead>\n",
              "  <tbody>\n",
              "  </tbody>\n",
              "</table>\n",
              "</div>"
            ],
            "text/plain": [
              "Empty DataFrame\n",
              "Columns: [PassengerId, Survived, Pclass, Name, Sex, Age, SibSp, Parch, Ticket, Fare, Cabin, Embarked, lastname, title, firstname]\n",
              "Index: []"
            ]
          },
          "execution_count": 13,
          "metadata": {},
          "output_type": "execute_result"
        }
      ],
      "source": [
        "# filtering\n",
        "# startswith/endswith\n",
        "df[df['firstname'].str.endswith('A')]\n",
        "# isdigit/isalpha...\n",
        "df[df['firstname'].str.isdigit()]"
      ]
    },
    {
      "cell_type": "code",
      "execution_count": 15,
      "metadata": {
        "colab": {
          "base_uri": "https://localhost:8080/",
          "height": 711
        },
        "id": "MqxcE3x3ZPVR",
        "outputId": "ab42b4eb-a8ad-4349-de61-314ad18ca689"
      },
      "outputs": [
        {
          "data": {
            "text/html": [
              "<div>\n",
              "<style scoped>\n",
              "    .dataframe tbody tr th:only-of-type {\n",
              "        vertical-align: middle;\n",
              "    }\n",
              "\n",
              "    .dataframe tbody tr th {\n",
              "        vertical-align: top;\n",
              "    }\n",
              "\n",
              "    .dataframe thead th {\n",
              "        text-align: right;\n",
              "    }\n",
              "</style>\n",
              "<table border=\"1\" class=\"dataframe\">\n",
              "  <thead>\n",
              "    <tr style=\"text-align: right;\">\n",
              "      <th></th>\n",
              "      <th>PassengerId</th>\n",
              "      <th>Survived</th>\n",
              "      <th>Pclass</th>\n",
              "      <th>Name</th>\n",
              "      <th>Sex</th>\n",
              "      <th>Age</th>\n",
              "      <th>SibSp</th>\n",
              "      <th>Parch</th>\n",
              "      <th>Ticket</th>\n",
              "      <th>Fare</th>\n",
              "      <th>Cabin</th>\n",
              "      <th>Embarked</th>\n",
              "      <th>lastname</th>\n",
              "      <th>title</th>\n",
              "      <th>firstname</th>\n",
              "    </tr>\n",
              "  </thead>\n",
              "  <tbody>\n",
              "    <tr>\n",
              "      <th>30</th>\n",
              "      <td>31</td>\n",
              "      <td>0</td>\n",
              "      <td>1</td>\n",
              "      <td>Uruchurtu, Don. Manuel E</td>\n",
              "      <td>male</td>\n",
              "      <td>40.0</td>\n",
              "      <td>0</td>\n",
              "      <td>0</td>\n",
              "      <td>PC 17601</td>\n",
              "      <td>27.7208</td>\n",
              "      <td>NaN</td>\n",
              "      <td>C</td>\n",
              "      <td>Uruchurtu</td>\n",
              "      <td>Don.</td>\n",
              "      <td>Manuel E</td>\n",
              "    </tr>\n",
              "    <tr>\n",
              "      <th>49</th>\n",
              "      <td>50</td>\n",
              "      <td>0</td>\n",
              "      <td>3</td>\n",
              "      <td>Arnold-Franchi, Mrs. Josef (Josefine Franchi)</td>\n",
              "      <td>female</td>\n",
              "      <td>18.0</td>\n",
              "      <td>1</td>\n",
              "      <td>0</td>\n",
              "      <td>349237</td>\n",
              "      <td>17.8000</td>\n",
              "      <td>NaN</td>\n",
              "      <td>S</td>\n",
              "      <td>Arnold-Franchi</td>\n",
              "      <td>Mrs.</td>\n",
              "      <td>Josef (Josefine Franchi)</td>\n",
              "    </tr>\n",
              "    <tr>\n",
              "      <th>207</th>\n",
              "      <td>208</td>\n",
              "      <td>1</td>\n",
              "      <td>3</td>\n",
              "      <td>Albimona, Mr. Nassef Cassem</td>\n",
              "      <td>male</td>\n",
              "      <td>26.0</td>\n",
              "      <td>0</td>\n",
              "      <td>0</td>\n",
              "      <td>2699</td>\n",
              "      <td>18.7875</td>\n",
              "      <td>NaN</td>\n",
              "      <td>C</td>\n",
              "      <td>Albimona</td>\n",
              "      <td>Mr.</td>\n",
              "      <td>Nassef Cassem</td>\n",
              "    </tr>\n",
              "    <tr>\n",
              "      <th>210</th>\n",
              "      <td>211</td>\n",
              "      <td>0</td>\n",
              "      <td>3</td>\n",
              "      <td>Ali, Mr. Ahmed</td>\n",
              "      <td>male</td>\n",
              "      <td>24.0</td>\n",
              "      <td>0</td>\n",
              "      <td>0</td>\n",
              "      <td>SOTON/O.Q. 3101311</td>\n",
              "      <td>7.0500</td>\n",
              "      <td>NaN</td>\n",
              "      <td>S</td>\n",
              "      <td>Ali</td>\n",
              "      <td>Mr.</td>\n",
              "      <td>Ahmed</td>\n",
              "    </tr>\n",
              "    <tr>\n",
              "      <th>353</th>\n",
              "      <td>354</td>\n",
              "      <td>0</td>\n",
              "      <td>3</td>\n",
              "      <td>Arnold-Franchi, Mr. Josef</td>\n",
              "      <td>male</td>\n",
              "      <td>25.0</td>\n",
              "      <td>1</td>\n",
              "      <td>0</td>\n",
              "      <td>349237</td>\n",
              "      <td>17.8000</td>\n",
              "      <td>NaN</td>\n",
              "      <td>S</td>\n",
              "      <td>Arnold-Franchi</td>\n",
              "      <td>Mr.</td>\n",
              "      <td>Josef</td>\n",
              "    </tr>\n",
              "    <tr>\n",
              "      <th>493</th>\n",
              "      <td>494</td>\n",
              "      <td>0</td>\n",
              "      <td>1</td>\n",
              "      <td>Artagaveytia, Mr. Ramon</td>\n",
              "      <td>male</td>\n",
              "      <td>71.0</td>\n",
              "      <td>0</td>\n",
              "      <td>0</td>\n",
              "      <td>PC 17609</td>\n",
              "      <td>49.5042</td>\n",
              "      <td>NaN</td>\n",
              "      <td>C</td>\n",
              "      <td>Artagaveytia</td>\n",
              "      <td>Mr.</td>\n",
              "      <td>Ramon</td>\n",
              "    </tr>\n",
              "    <tr>\n",
              "      <th>518</th>\n",
              "      <td>519</td>\n",
              "      <td>1</td>\n",
              "      <td>2</td>\n",
              "      <td>Angle, Mrs. William A (Florence \"Mary\" Agnes H...</td>\n",
              "      <td>female</td>\n",
              "      <td>36.0</td>\n",
              "      <td>1</td>\n",
              "      <td>0</td>\n",
              "      <td>226875</td>\n",
              "      <td>26.0000</td>\n",
              "      <td>NaN</td>\n",
              "      <td>S</td>\n",
              "      <td>Angle</td>\n",
              "      <td>Mrs.</td>\n",
              "      <td>William A (Florence \"Mary\" Agnes Hughes)</td>\n",
              "    </tr>\n",
              "    <tr>\n",
              "      <th>784</th>\n",
              "      <td>785</td>\n",
              "      <td>0</td>\n",
              "      <td>3</td>\n",
              "      <td>Ali, Mr. William</td>\n",
              "      <td>male</td>\n",
              "      <td>25.0</td>\n",
              "      <td>0</td>\n",
              "      <td>0</td>\n",
              "      <td>SOTON/O.Q. 3101312</td>\n",
              "      <td>7.0500</td>\n",
              "      <td>NaN</td>\n",
              "      <td>S</td>\n",
              "      <td>Ali</td>\n",
              "      <td>Mr.</td>\n",
              "      <td>William</td>\n",
              "    </tr>\n",
              "    <tr>\n",
              "      <th>840</th>\n",
              "      <td>841</td>\n",
              "      <td>0</td>\n",
              "      <td>3</td>\n",
              "      <td>Alhomaki, Mr. Ilmari Rudolf</td>\n",
              "      <td>male</td>\n",
              "      <td>20.0</td>\n",
              "      <td>0</td>\n",
              "      <td>0</td>\n",
              "      <td>SOTON/O2 3101287</td>\n",
              "      <td>7.9250</td>\n",
              "      <td>NaN</td>\n",
              "      <td>S</td>\n",
              "      <td>Alhomaki</td>\n",
              "      <td>Mr.</td>\n",
              "      <td>Ilmari Rudolf</td>\n",
              "    </tr>\n",
              "  </tbody>\n",
              "</table>\n",
              "</div>"
            ],
            "text/plain": [
              "     PassengerId  Survived  Pclass  \\\n",
              "30            31         0       1   \n",
              "49            50         0       3   \n",
              "207          208         1       3   \n",
              "210          211         0       3   \n",
              "353          354         0       3   \n",
              "493          494         0       1   \n",
              "518          519         1       2   \n",
              "784          785         0       3   \n",
              "840          841         0       3   \n",
              "\n",
              "                                                  Name     Sex   Age  SibSp  \\\n",
              "30                            Uruchurtu, Don. Manuel E    male  40.0      0   \n",
              "49       Arnold-Franchi, Mrs. Josef (Josefine Franchi)  female  18.0      1   \n",
              "207                        Albimona, Mr. Nassef Cassem    male  26.0      0   \n",
              "210                                     Ali, Mr. Ahmed    male  24.0      0   \n",
              "353                          Arnold-Franchi, Mr. Josef    male  25.0      1   \n",
              "493                            Artagaveytia, Mr. Ramon    male  71.0      0   \n",
              "518  Angle, Mrs. William A (Florence \"Mary\" Agnes H...  female  36.0      1   \n",
              "784                                   Ali, Mr. William    male  25.0      0   \n",
              "840                        Alhomaki, Mr. Ilmari Rudolf    male  20.0      0   \n",
              "\n",
              "     Parch              Ticket     Fare Cabin Embarked        lastname title  \\\n",
              "30       0            PC 17601  27.7208   NaN        C       Uruchurtu  Don.   \n",
              "49       0              349237  17.8000   NaN        S  Arnold-Franchi  Mrs.   \n",
              "207      0                2699  18.7875   NaN        C        Albimona   Mr.   \n",
              "210      0  SOTON/O.Q. 3101311   7.0500   NaN        S             Ali   Mr.   \n",
              "353      0              349237  17.8000   NaN        S  Arnold-Franchi   Mr.   \n",
              "493      0            PC 17609  49.5042   NaN        C    Artagaveytia   Mr.   \n",
              "518      0              226875  26.0000   NaN        S           Angle  Mrs.   \n",
              "784      0  SOTON/O.Q. 3101312   7.0500   NaN        S             Ali   Mr.   \n",
              "840      0    SOTON/O2 3101287   7.9250   NaN        S        Alhomaki   Mr.   \n",
              "\n",
              "                                    firstname  \n",
              "30                                   Manuel E  \n",
              "49                   Josef (Josefine Franchi)  \n",
              "207                             Nassef Cassem  \n",
              "210                                     Ahmed  \n",
              "353                                     Josef  \n",
              "493                                     Ramon  \n",
              "518  William A (Florence \"Mary\" Agnes Hughes)  \n",
              "784                                   William  \n",
              "840                             Ilmari Rudolf  "
            ]
          },
          "execution_count": 15,
          "metadata": {},
          "output_type": "execute_result"
        }
      ],
      "source": [
        "# applying regex\n",
        "# contains\n",
        "# search john -> both case\n",
        "df[df['firstname'].str.contains('john',case=False)]\n",
        "# find lastnames with start and end char vowel\n",
        "df[df['lastname'].str.contains('^[^aeiouAEIOU].+[^aeiouAEIOU]$')]\n",
        "df[df['lastname'].str.contains('^[aeiouAEIOU].+[aeiouAEIOU]$')]"
      ]
    },
    {
      "cell_type": "code",
      "execution_count": 16,
      "metadata": {
        "colab": {
          "base_uri": "https://localhost:8080/"
        },
        "id": "0S4jPWUjZfwj",
        "outputId": "66909574-36e5-407e-a160-e17034e24543"
      },
      "outputs": [
        {
          "data": {
            "text/plain": [
              "0                                sirraH newO .rM ,dnuarB\n",
              "1      )reyahT sggirB ecnerolF( yeldarB nhoJ .srM ,sg...\n",
              "2                                 aniaL .ssiM ,nenikkieH\n",
              "3           )leeP yaM yliL( htaeH seuqcaJ .srM ,ellertuF\n",
              "4                               yrneH mailliW .rM ,nellA\n",
              "                             ...                        \n",
              "886                                sazouJ .veR ,alivtnoM\n",
              "887                         htidE teragraM .ssiM ,maharG\n",
              "888             \"eirraC\" neleH enirehtaC .ssiM ,notsnhoJ\n",
              "889                                llewoH lraK .rM ,rheB\n",
              "890                                  kcirtaP .rM ,yelooD\n",
              "Name: Name, Length: 891, dtype: object"
            ]
          },
          "execution_count": 16,
          "metadata": {},
          "output_type": "execute_result"
        }
      ],
      "source": [
        "# slicing\n",
        "df['Name'].str[::-1]"
      ]
    },
    {
      "cell_type": "code",
      "execution_count": null,
      "metadata": {
        "id": "Ny0Puj9qpPiI"
      },
      "outputs": [],
      "source": []
    }
  ],
  "metadata": {
    "colab": {
      "provenance": []
    },
    "kernelspec": {
      "display_name": ".venv",
      "language": "python",
      "name": "python3"
    },
    "language_info": {
      "codemirror_mode": {
        "name": "ipython",
        "version": 3
      },
      "file_extension": ".py",
      "mimetype": "text/x-python",
      "name": "python",
      "nbconvert_exporter": "python",
      "pygments_lexer": "ipython3",
      "version": "3.12.7"
    }
  },
  "nbformat": 4,
  "nbformat_minor": 0
}
